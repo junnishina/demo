{
 "cells": [
  {
   "cell_type": "code",
   "execution_count": 42,
   "metadata": {
    "scrolled": true
   },
   "outputs": [
    {
     "name": "stdout",
     "output_type": "stream",
     "text": [
      "x_train shape: (60000, 28, 28, 1)\n"
     ]
    }
   ],
   "source": [
    "from __future__ import print_function\n",
    "import keras\n",
    "from keras.datasets import mnist\n",
    "from keras.models import Sequential\n",
    "from keras.layers import Dense, Dropout, Flatten\n",
    "from keras.layers import Conv2D, MaxPooling2D\n",
    "from keras import backend as K\n",
    "\n",
    "batch_size = 32\n",
    "num_classes = 10\n",
    "epochs = 12\n",
    "\n",
    "img_rows, img_cols = 28, 28\n",
    "\n",
    "(x_train, y_train), (x_test, y_test) = mnist.load_data()\n",
    "x_train = x_train.reshape(x_train.shape[0], img_rows, img_cols, 1)\n",
    "x_test = x_test.reshape(x_test.shape[0], img_rows, img_cols, 1)\n",
    "\n",
    "x_train = x_train.astype('float32')\n",
    "x_test = x_test.astype('float32')\n",
    "x_train /= 255\n",
    "x_test /= 255\n",
    "print('x_train shape:', x_train.shape)"
   ]
  },
  {
   "cell_type": "code",
   "execution_count": 43,
   "metadata": {},
   "outputs": [],
   "source": [
    "import numpy as np\n",
    "%matplotlib inline\n",
    "import matplotlib.pyplot as plt"
   ]
  },
  {
   "cell_type": "markdown",
   "metadata": {},
   "source": [
    "最終的には、使うtrain, testデータは4000個になる。"
   ]
  },
  {
   "cell_type": "code",
   "execution_count": 44,
   "metadata": {},
   "outputs": [],
   "source": [
    "N=2000"
   ]
  },
  {
   "cell_type": "markdown",
   "metadata": {},
   "source": [
    "2個つながった画像にする。公平性のため、左右を反対にした同じペアも加える。"
   ]
  },
  {
   "cell_type": "code",
   "execution_count": 45,
   "metadata": {},
   "outputs": [],
   "source": [
    "def conv_x(x0):\n",
    "    x1 = []\n",
    "    for i in range(N):\n",
    "        x1.append(np.c_[x0[i*2][:,:,0], x0[i*2+1][:,:,0]])\n",
    "        x1.append(np.c_[x0[i*2+1][:,:,0], x0[i*2][:,:,0]])\n",
    "    return np.array(x1).reshape(2*N,28,56,1)\n",
    "    \n",
    "x_train = conv_x(x_train)\n",
    "x_test = conv_x(x_test)\n",
    "\n",
    "# convert class vectors to binary class matrices\n",
    "#y_train = keras.utils.to_categorical(y_train, num_classes)\n",
    "#y_test = keras.utils.to_categorical(y_test, num_classes)"
   ]
  },
  {
   "cell_type": "markdown",
   "metadata": {},
   "source": [
    "ラベルのほうは、[2 9] -> [0 0 1 0 0 0 0 0 0 1] のようなbinalizationをする"
   ]
  },
  {
   "cell_type": "code",
   "execution_count": 46,
   "metadata": {},
   "outputs": [],
   "source": [
    "def conv_y(y0):\n",
    "    y1 = []\n",
    "    for i in range(N):\n",
    "        y = np.zeros(10)\n",
    "        digit1 = y0[i*2]\n",
    "        digit2 = y0[i*2 +1]        \n",
    "        y[digit1] = 1\n",
    "        y[digit2] = 1\n",
    "        y1.append(y)\n",
    "        y1.append(y)\n",
    "    return np.array(y1)\n",
    "y_train = conv_y(y_train)\n",
    "y_test = conv_y(y_test)"
   ]
  },
  {
   "cell_type": "code",
   "execution_count": 47,
   "metadata": {
    "scrolled": true
   },
   "outputs": [
    {
     "data": {
      "text/plain": [
       "<matplotlib.image.AxesImage at 0x182a4ed6b38>"
      ]
     },
     "execution_count": 47,
     "metadata": {},
     "output_type": "execute_result"
    },
    {
     "data": {
      "image/png": "[encoded data removed]",
      "text/plain": [
       "<Figure size 432x288 with 1 Axes>"
      ]
     },
     "metadata": {},
     "output_type": "display_data"
    }
   ],
   "source": [
    "plt.imshow(x_train[5][:,:,0])"
   ]
  },
  {
   "cell_type": "code",
   "execution_count": 48,
   "metadata": {
    "scrolled": false
   },
   "outputs": [
    {
     "data": {
      "text/plain": [
       "array([0., 0., 1., 0., 0., 0., 0., 0., 0., 1.])"
      ]
     },
     "execution_count": 48,
     "metadata": {},
     "output_type": "execute_result"
    }
   ],
   "source": [
    "y_train[5]"
   ]
  },
  {
   "cell_type": "code",
   "execution_count": 49,
   "metadata": {},
   "outputs": [
    {
     "name": "stdout",
     "output_type": "stream",
     "text": [
      "Train on 4000 samples, validate on 4000 samples\n",
      "Epoch 1/16\n",
      "4000/4000 [==============================] - 2s 400us/step - loss: 0.4925 - acc: 0.8070 - val_loss: 0.4262 - val_acc: 0.8186\n",
      "Epoch 2/16\n",
      "4000/4000 [==============================] - 1s 263us/step - loss: 0.3881 - acc: 0.8408 - val_loss: 0.3043 - val_acc: 0.8757\n",
      "Epoch 3/16\n",
      "4000/4000 [==============================] - 1s 259us/step - loss: 0.2971 - acc: 0.8795 - val_loss: 0.2205 - val_acc: 0.9152\n",
      "Epoch 4/16\n",
      "4000/4000 [==============================] - 1s 261us/step - loss: 0.2465 - acc: 0.9024 - val_loss: 0.1788 - val_acc: 0.9296\n",
      "Epoch 5/16\n",
      "4000/4000 [==============================] - 1s 249us/step - loss: 0.2049 - acc: 0.9203 - val_loss: 0.1548 - val_acc: 0.9412\n",
      "Epoch 6/16\n",
      "4000/4000 [==============================] - 1s 257us/step - loss: 0.1830 - acc: 0.9325 - val_loss: 0.1354 - val_acc: 0.9494\n",
      "Epoch 7/16\n",
      "4000/4000 [==============================] - 1s 254us/step - loss: 0.1611 - acc: 0.9402 - val_loss: 0.1201 - val_acc: 0.9576\n",
      "Epoch 8/16\n",
      "4000/4000 [==============================] - 1s 257us/step - loss: 0.1464 - acc: 0.9479 - val_loss: 0.1040 - val_acc: 0.9628\n",
      "Epoch 9/16\n",
      "4000/4000 [==============================] - 1s 251us/step - loss: 0.1350 - acc: 0.9527 - val_loss: 0.0994 - val_acc: 0.9635\n",
      "Epoch 10/16\n",
      "4000/4000 [==============================] - 1s 249us/step - loss: 0.1208 - acc: 0.9571 - val_loss: 0.0940 - val_acc: 0.9668\n",
      "Epoch 11/16\n",
      "4000/4000 [==============================] - 1s 250us/step - loss: 0.1150 - acc: 0.9594 - val_loss: 0.0862 - val_acc: 0.9681\n",
      "Epoch 12/16\n",
      "4000/4000 [==============================] - 1s 253us/step - loss: 0.1054 - acc: 0.9631 - val_loss: 0.0854 - val_acc: 0.9692\n",
      "Epoch 13/16\n",
      "4000/4000 [==============================] - 1s 255us/step - loss: 0.0996 - acc: 0.9652 - val_loss: 0.0829 - val_acc: 0.9698\n",
      "Epoch 14/16\n",
      "4000/4000 [==============================] - 1s 255us/step - loss: 0.0934 - acc: 0.9678 - val_loss: 0.0760 - val_acc: 0.9734\n",
      "Epoch 15/16\n",
      "4000/4000 [==============================] - 1s 250us/step - loss: 0.0873 - acc: 0.9694 - val_loss: 0.0671 - val_acc: 0.9762\n",
      "Epoch 16/16\n",
      "4000/4000 [==============================] - 1s 251us/step - loss: 0.0832 - acc: 0.9711 - val_loss: 0.0694 - val_acc: 0.9764\n",
      "Test loss: 0.06937139730155469\n",
      "Test accuracy: 0.976400004863739\n"
     ]
    }
   ],
   "source": [
    "input_shape = (28,56,1)\n",
    "\n",
    "model = Sequential()\n",
    "model.add(Conv2D(32, kernel_size=(3, 3),\n",
    "                 activation='relu',\n",
    "                 input_shape=input_shape))\n",
    "model.add(MaxPooling2D(pool_size=(2, 2)))\n",
    "model.add(Conv2D(64, (3, 3), activation='relu'))\n",
    "model.add(MaxPooling2D(pool_size=(2, 2)))\n",
    "model.add(Conv2D(64, (3, 3), activation='relu'))\n",
    "model.add(MaxPooling2D(pool_size=(2, 2)))\n",
    "model.add(Dropout(0.25))\n",
    "model.add(Flatten())\n",
    "model.add(Dense(128, activation='relu'))\n",
    "model.add(Dropout(0.5))\n",
    "#model.add(Dense(num_classes, activation='softmax'))\n",
    "model.add(Dense(num_classes, activation='sigmoid'))\n",
    "\n",
    "#model.compile(loss=keras.losses.categorical_crossentropy,\n",
    "model.compile(loss=keras.losses.binary_crossentropy,\n",
    "              optimizer=keras.optimizers.Adadelta(),\n",
    "              metrics=['accuracy'])\n",
    "\n",
    "model.fit(x_train, y_train,\n",
    "          batch_size=batch_size,\n",
    "          epochs=epochs,\n",
    "          verbose=1,\n",
    "          validation_data=(x_test, y_test))\n",
    "score = model.evaluate(x_test, y_test, verbose=0)\n",
    "print('Test loss:', score[0])\n",
    "print('Test accuracy:', score[1])"
   ]
  },
  {
   "cell_type": "code",
   "execution_count": null,
   "metadata": {},
   "outputs": [],
   "source": []
  }
 ],
 "metadata": {
  "kernelspec": {
   "display_name": "Python 3",
   "language": "python",
   "name": "python3"
  },
  "language_info": {
   "codemirror_mode": {
    "name": "ipython",
    "version": 3
   },
   "file_extension": ".py",
   "mimetype": "text/x-python",
   "name": "python",
   "nbconvert_exporter": "python",
   "pygments_lexer": "ipython3",
   "version": "3.6.5"
  },
  "toc": {
   "nav_menu": {},
   "number_sections": true,
   "sideBar": true,
   "skip_h1_title": false,
   "title_cell": "Table of Contents",
   "title_sidebar": "Contents",
   "toc_cell": false,
   "toc_position": {},
   "toc_section_display": true,
   "toc_window_display": false
  }
 },
 "nbformat": 4,
 "nbformat_minor": 2
}
