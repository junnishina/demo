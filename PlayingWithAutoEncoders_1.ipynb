{
 "cells": [
  {
   "cell_type": "markdown",
   "metadata": {},
   "source": [
    "<a href=\"https://github.com/fchollet/keras/blob/master/examples/mnist_mlp.py\">mnist_mlpのコード</a>をコピーする。"
   ]
  },
  {
   "cell_type": "code",
   "execution_count": 115,
   "metadata": {},
   "outputs": [],
   "source": [
    "'''Trains a simple deep NN on the MNIST dataset.\n",
    "\n",
    "Gets to 98.40% test accuracy after 20 epochs\n",
    "(there is *a lot* of margin for parameter tuning).\n",
    "2 seconds per epoch on a K520 GPU.\n",
    "'''\n",
    "\n",
    "from __future__ import print_function\n",
    "\n",
    "import keras\n",
    "from keras.datasets import mnist\n",
    "from keras.models import Sequential\n",
    "from keras.layers import Dense, Dropout\n",
    "from keras.optimizers import RMSprop"
   ]
  },
  {
   "cell_type": "markdown",
   "metadata": {},
   "source": [
    "numpyをインポートしておく。"
   ]
  },
  {
   "cell_type": "code",
   "execution_count": 116,
   "metadata": {
    "collapsed": true
   },
   "outputs": [],
   "source": [
    "import numpy as np"
   ]
  },
  {
   "cell_type": "markdown",
   "metadata": {},
   "source": [
    "コードを書き始めた段階では、エポック数指定はひとまず数回でも十分、あとで修正すれば良い。<br>次にmnistデータをロードする。実はtestデータはいらない。"
   ]
  },
  {
   "cell_type": "code",
   "execution_count": 117,
   "metadata": {
    "collapsed": true
   },
   "outputs": [],
   "source": [
    "batch_size = 128\n",
    "epochs = 50\n",
    "\n",
    "# the data, shuffled and split between train and test sets\n",
    "(x_train, y_train), (x_test, y_test) = mnist.load_data()\n",
    "x_train = x_train.astype('float32')\n",
    "x_test = x_test.astype('float32')\n",
    "x_train /= 255\n",
    "x_test /= 255"
   ]
  },
  {
   "cell_type": "markdown",
   "metadata": {},
   "source": [
    "古典的な例だが、0から9の数字のうち4と9だけを残すことにする。<br>ここでは便利な書き方をふたつ使っている。<br>ブロードキャスト？による各要素計算。<br>x_train[keep_train_idx]の書き方は、Numpy配列のboolインデックス参照と呼ぶようだ。"
   ]
  },
  {
   "cell_type": "code",
   "execution_count": 118,
   "metadata": {},
   "outputs": [
    {
     "data": {
      "text/plain": [
       "(11791, 28, 28)"
      ]
     },
     "execution_count": 118,
     "metadata": {},
     "output_type": "execute_result"
    }
   ],
   "source": [
    "keep_train_idx = np.logical_or(y_train == 4, y_train == 9)\n",
    "keep_test_idx = np.logical_or(y_test ==4, y_test == 9)\n",
    "\n",
    "x_train = x_train[keep_train_idx]\n",
    "x_test = x_test[keep_test_idx]\n",
    "x_train.shape"
   ]
  },
  {
   "cell_type": "markdown",
   "metadata": {},
   "source": [
    "ベクトル化した変数は名前を別にしておくほうが好き。"
   ]
  },
  {
   "cell_type": "code",
   "execution_count": 119,
   "metadata": {},
   "outputs": [
    {
     "data": {
      "text/plain": [
       "(11791, 784)"
      ]
     },
     "execution_count": 119,
     "metadata": {},
     "output_type": "execute_result"
    }
   ],
   "source": [
    "x_train_vec = x_train.reshape(x_train.shape[0], 784)\n",
    "x_test_vec = x_test.reshape(x_test.shape[0], 784)\n",
    "x_train_vec.shape"
   ]
  },
  {
   "cell_type": "markdown",
   "metadata": {},
   "source": [
    "autoencoderを作るだけなら、keras Sequential APIだけで十分である。活性化関数としてはsigmoidを選択する。Dropout層は良い奴なので入れておく。まずは中央に256次元もつautoencoderを構成した。"
   ]
  },
  {
   "cell_type": "code",
   "execution_count": 120,
   "metadata": {
    "scrolled": true
   },
   "outputs": [
    {
     "name": "stdout",
     "output_type": "stream",
     "text": [
      "_________________________________________________________________\n",
      "Layer (type)                 Output Shape              Param #   \n",
      "=================================================================\n",
      "dense_13 (Dense)             (None, 256)               200960    \n",
      "_________________________________________________________________\n",
      "dropout_7 (Dropout)          (None, 256)               0         \n",
      "_________________________________________________________________\n",
      "dense_14 (Dense)             (None, 784)               201488    \n",
      "=================================================================\n",
      "Total params: 402,448\n",
      "Trainable params: 402,448\n",
      "Non-trainable params: 0\n",
      "_________________________________________________________________\n"
     ]
    }
   ],
   "source": [
    "model = Sequential()\n",
    "model.add(Dense(256, activation='sigmoid', input_shape=(784,)))\n",
    "model.add(Dropout(0.3))\n",
    "model.add(Dense(784, activation='sigmoid'))\n",
    "model.summary()"
   ]
  },
  {
   "cell_type": "markdown",
   "metadata": {},
   "source": [
    "出力がなるべく入力と同じになるようにautoencoderを訓練する。損失関数を平均2乗誤差とする。"
   ]
  },
  {
   "cell_type": "code",
   "execution_count": 121,
   "metadata": {},
   "outputs": [
    {
     "name": "stdout",
     "output_type": "stream",
     "text": [
      "Train on 11791 samples, validate on 1991 samples\n",
      "Epoch 1/50\n",
      "11791/11791 [==============================] - 2s - loss: 0.0552 - acc: 0.0087 - val_loss: 0.0359 - val_acc: 0.0116\n",
      "Epoch 2/50\n",
      "11791/11791 [==============================] - 1s - loss: 0.0307 - acc: 0.0101 - val_loss: 0.0239 - val_acc: 0.0065\n",
      "Epoch 3/50\n",
      "11791/11791 [==============================] - 1s - loss: 0.0226 - acc: 0.0089 - val_loss: 0.0184 - val_acc: 0.0100\n",
      "Epoch 4/50\n",
      "11791/11791 [==============================] - 1s - loss: 0.0188 - acc: 0.0098 - val_loss: 0.0155 - val_acc: 0.0075\n",
      "Epoch 5/50\n",
      "11791/11791 [==============================] - 1s - loss: 0.0166 - acc: 0.0104 - val_loss: 0.0136 - val_acc: 0.0141\n",
      "Epoch 6/50\n",
      "11791/11791 [==============================] - 1s - loss: 0.0151 - acc: 0.0131 - val_loss: 0.0119 - val_acc: 0.0070\n",
      "Epoch 7/50\n",
      "11791/11791 [==============================] - 1s - loss: 0.0139 - acc: 0.0116 - val_loss: 0.0108 - val_acc: 0.0161\n",
      "Epoch 8/50\n",
      "11791/11791 [==============================] - 1s - loss: 0.0130 - acc: 0.0121 - val_loss: 0.0099 - val_acc: 0.0126\n",
      "Epoch 9/50\n",
      "11791/11791 [==============================] - 1s - loss: 0.0123 - acc: 0.0142 - val_loss: 0.0092 - val_acc: 0.0100\n",
      "Epoch 10/50\n",
      "11791/11791 [==============================] - 1s - loss: 0.0117 - acc: 0.0133 - val_loss: 0.0086 - val_acc: 0.0126\n",
      "Epoch 11/50\n",
      "11791/11791 [==============================] - 1s - loss: 0.0112 - acc: 0.0158 - val_loss: 0.0081 - val_acc: 0.0136\n",
      "Epoch 12/50\n",
      "11791/11791 [==============================] - 1s - loss: 0.0108 - acc: 0.0136 - val_loss: 0.0077 - val_acc: 0.0121\n",
      "Epoch 13/50\n",
      "11791/11791 [==============================] - 1s - loss: 0.0105 - acc: 0.0158 - val_loss: 0.0074 - val_acc: 0.0126\n",
      "Epoch 14/50\n",
      "11791/11791 [==============================] - 1s - loss: 0.0102 - acc: 0.0142 - val_loss: 0.0071 - val_acc: 0.0141\n",
      "Epoch 15/50\n",
      "11791/11791 [==============================] - 1s - loss: 0.0100 - acc: 0.0152 - val_loss: 0.0068 - val_acc: 0.0136\n",
      "Epoch 16/50\n",
      "11791/11791 [==============================] - 2s - loss: 0.0097 - acc: 0.0150 - val_loss: 0.0066 - val_acc: 0.0110\n",
      "Epoch 17/50\n",
      "11791/11791 [==============================] - 2s - loss: 0.0095 - acc: 0.0134 - val_loss: 0.0064 - val_acc: 0.0136\n",
      "Epoch 18/50\n",
      "11791/11791 [==============================] - 2s - loss: 0.0094 - acc: 0.0151 - val_loss: 0.0062 - val_acc: 0.0110\n",
      "Epoch 19/50\n",
      "11791/11791 [==============================] - 2s - loss: 0.0092 - acc: 0.0150 - val_loss: 0.0060 - val_acc: 0.0126\n",
      "Epoch 20/50\n",
      "11791/11791 [==============================] - 3s - loss: 0.0091 - acc: 0.0148 - val_loss: 0.0059 - val_acc: 0.0095\n",
      "Epoch 21/50\n",
      "11791/11791 [==============================] - 2s - loss: 0.0089 - acc: 0.0165 - val_loss: 0.0057 - val_acc: 0.0105\n",
      "Epoch 22/50\n",
      "11791/11791 [==============================] - 3s - loss: 0.0088 - acc: 0.0137 - val_loss: 0.0056 - val_acc: 0.0065\n",
      "Epoch 23/50\n",
      "11791/11791 [==============================] - 2s - loss: 0.0086 - acc: 0.0148 - val_loss: 0.0055 - val_acc: 0.0090\n",
      "Epoch 24/50\n",
      "11791/11791 [==============================] - 3s - loss: 0.0086 - acc: 0.0151 - val_loss: 0.0054 - val_acc: 0.0121\n",
      "Epoch 25/50\n",
      "11791/11791 [==============================] - 2s - loss: 0.0085 - acc: 0.0133 - val_loss: 0.0053 - val_acc: 0.0100\n",
      "Epoch 26/50\n",
      "11791/11791 [==============================] - 3s - loss: 0.0083 - acc: 0.0130 - val_loss: 0.0052 - val_acc: 0.0110\n",
      "Epoch 27/50\n",
      "11791/11791 [==============================] - 2s - loss: 0.0083 - acc: 0.0154 - val_loss: 0.0051 - val_acc: 0.0121\n",
      "Epoch 28/50\n",
      "11791/11791 [==============================] - 3s - loss: 0.0082 - acc: 0.0140 - val_loss: 0.0050 - val_acc: 0.0100\n",
      "Epoch 29/50\n",
      "11791/11791 [==============================] - 3s - loss: 0.0081 - acc: 0.0154 - val_loss: 0.0049 - val_acc: 0.0090\n",
      "Epoch 30/50\n",
      "11791/11791 [==============================] - 2s - loss: 0.0080 - acc: 0.0127 - val_loss: 0.0050 - val_acc: 0.0121\n",
      "Epoch 31/50\n",
      "11791/11791 [==============================] - 3s - loss: 0.0080 - acc: 0.0135 - val_loss: 0.0049 - val_acc: 0.0110\n",
      "Epoch 32/50\n",
      "11791/11791 [==============================] - 3s - loss: 0.0079 - acc: 0.0149 - val_loss: 0.0048 - val_acc: 0.0110\n",
      "Epoch 33/50\n",
      "11791/11791 [==============================] - 3s - loss: 0.0078 - acc: 0.0151 - val_loss: 0.0047 - val_acc: 0.0121\n",
      "Epoch 34/50\n",
      "11791/11791 [==============================] - 3s - loss: 0.0078 - acc: 0.0159 - val_loss: 0.0047 - val_acc: 0.0116\n",
      "Epoch 35/50\n",
      "11791/11791 [==============================] - 3s - loss: 0.0078 - acc: 0.0142 - val_loss: 0.0046 - val_acc: 0.0110\n",
      "Epoch 36/50\n",
      "11791/11791 [==============================] - 2s - loss: 0.0077 - acc: 0.0173 - val_loss: 0.0046 - val_acc: 0.0100\n",
      "Epoch 37/50\n",
      "11791/11791 [==============================] - 2s - loss: 0.0076 - acc: 0.0137 - val_loss: 0.0045 - val_acc: 0.0126\n",
      "Epoch 38/50\n",
      "11791/11791 [==============================] - 3s - loss: 0.0076 - acc: 0.0157 - val_loss: 0.0044 - val_acc: 0.0126\n",
      "Epoch 39/50\n",
      "11791/11791 [==============================] - 3s - loss: 0.0076 - acc: 0.0138 - val_loss: 0.0044 - val_acc: 0.0110\n",
      "Epoch 40/50\n",
      "11791/11791 [==============================] - 2s - loss: 0.0075 - acc: 0.0140 - val_loss: 0.0044 - val_acc: 0.0151\n",
      "Epoch 41/50\n",
      "11791/11791 [==============================] - 2s - loss: 0.0075 - acc: 0.0147 - val_loss: 0.0043 - val_acc: 0.0141\n",
      "Epoch 42/50\n",
      "11791/11791 [==============================] - 2s - loss: 0.0074 - acc: 0.0142 - val_loss: 0.0043 - val_acc: 0.0105\n",
      "Epoch 43/50\n",
      "11791/11791 [==============================] - 2s - loss: 0.0074 - acc: 0.0161 - val_loss: 0.0043 - val_acc: 0.0116\n",
      "Epoch 44/50\n",
      "11791/11791 [==============================] - 3s - loss: 0.0074 - acc: 0.0173 - val_loss: 0.0042 - val_acc: 0.0126\n",
      "Epoch 45/50\n",
      "11791/11791 [==============================] - 2s - loss: 0.0073 - acc: 0.0159 - val_loss: 0.0042 - val_acc: 0.0100\n",
      "Epoch 46/50\n",
      "11791/11791 [==============================] - 2s - loss: 0.0073 - acc: 0.0166 - val_loss: 0.0041 - val_acc: 0.0116\n",
      "Epoch 47/50\n",
      "11791/11791 [==============================] - 2s - loss: 0.0072 - acc: 0.0145 - val_loss: 0.0041 - val_acc: 0.0121\n",
      "Epoch 48/50\n",
      "11791/11791 [==============================] - 3s - loss: 0.0072 - acc: 0.0142 - val_loss: 0.0041 - val_acc: 0.0100\n",
      "Epoch 49/50\n",
      "11791/11791 [==============================] - 2s - loss: 0.0072 - acc: 0.0158 - val_loss: 0.0041 - val_acc: 0.01100.\n",
      "Epoch 50/50\n",
      "11791/11791 [==============================] - 2s - loss: 0.0071 - acc: 0.0138 - val_loss: 0.0041 - val_acc: 0.0116\n",
      "Test loss: 0.00405747829052\n",
      "Test accuracy: 0.0115519839501\n"
     ]
    }
   ],
   "source": [
    "model.compile(loss='mean_squared_error',\n",
    "              optimizer=RMSprop(),\n",
    "              metrics=['accuracy'])\n",
    "\n",
    "history = model.fit(x_train_vec, x_train_vec,\n",
    "                    batch_size=batch_size,\n",
    "                    epochs=epochs,\n",
    "                    verbose=1,\n",
    "                    validation_data=(x_test_vec, x_test_vec))\n",
    "score = model.evaluate(x_test_vec, x_test_vec, verbose=0)\n",
    "print('Test loss:', score[0])\n",
    "print('Test accuracy:', score[1])"
   ]
  },
  {
   "cell_type": "markdown",
   "metadata": {},
   "source": [
    "## Testing results "
   ]
  },
  {
   "cell_type": "code",
   "execution_count": 122,
   "metadata": {
    "scrolled": true
   },
   "outputs": [
    {
     "data": {
      "image/png": "[encoded data removed]",
      "text/plain": [
       "<matplotlib.figure.Figure at 0x22689819c18>"
      ]
     },
     "metadata": {},
     "output_type": "display_data"
    },
    {
     "data": {
      "image/png": "[encoded data removed]",
      "text/plain": [
       "<matplotlib.figure.Figure at 0x22689a0ee48>"
      ]
     },
     "metadata": {},
     "output_type": "display_data"
    }
   ],
   "source": [
    "import matplotlib.pyplot as plt\n",
    "%matplotlib inline\n",
    "for i in range(1, 2):\n",
    "    plt.figure()\n",
    "    plt.imshow(x_train[i-1])\n",
    "    predicted = model.predict(x_train_vec[i-1:i]).reshape((28,28))\n",
    "    plt.figure()\n",
    "    plt.imshow(predicted)"
   ]
  },
  {
   "cell_type": "markdown",
   "metadata": {},
   "source": [
    "一応出力が出てきたのだが、入力と同じものが出力に出てきているように見える。入力を圧縮せずに素通しするのは良いautoencoderではない。まだ中間層の要素数が多すぎる。"
   ]
  },
  {
   "cell_type": "markdown",
   "metadata": {},
   "source": [
    "なおpredictの部分の処理がちょっとややこしくなっているがあまり本質的ではない。"
   ]
  },
  {
   "cell_type": "code",
   "execution_count": 125,
   "metadata": {},
   "outputs": [
    {
     "data": {
      "text/plain": [
       "(1, 784)"
      ]
     },
     "execution_count": 125,
     "metadata": {},
     "output_type": "execute_result"
    }
   ],
   "source": [
    "x_train_vec[0:1].shape"
   ]
  },
  {
   "cell_type": "markdown",
   "metadata": {},
   "source": [
    "subplotでもう少し一覧性を改善してみる"
   ]
  },
  {
   "cell_type": "code",
   "execution_count": 126,
   "metadata": {},
   "outputs": [
    {
     "data": {
      "image/png": "[encoded data removed]",
      "text/plain": [
       "<matplotlib.figure.Figure at 0x2268515dfd0>"
      ]
     },
     "metadata": {},
     "output_type": "display_data"
    }
   ],
   "source": [
    "n = 10  # how many digits we will display\n",
    "\n",
    "plt.figure(figsize=(20, 4))\n",
    "for i in range(n):\n",
    "    # display original\n",
    "    ax = plt.subplot(2, n, i + 1)\n",
    "    plt.imshow(x_train[i].reshape(28, 28))\n",
    "    plt.gray()\n",
    "    ax.get_xaxis().set_visible(False)\n",
    "    ax.get_yaxis().set_visible(False)\n",
    "\n",
    "    # display reconstruction\n",
    "    ax = plt.subplot(2, n, i + 1 + n)\n",
    "    predicted = model.predict(x_train_vec[i:i+1]).reshape((28,28))\n",
    "    plt.imshow(predicted)\n",
    "    plt.gray()\n",
    "    ax.get_xaxis().set_visible(False)\n",
    "    ax.get_yaxis().set_visible(False)\n",
    "plt.show()"
   ]
  },
  {
   "cell_type": "code",
   "execution_count": null,
   "metadata": {
    "collapsed": true
   },
   "outputs": [],
   "source": []
  },
  {
   "cell_type": "code",
   "execution_count": null,
   "metadata": {
    "collapsed": true
   },
   "outputs": [],
   "source": []
  }
 ],
 "metadata": {
  "kernelspec": {
   "display_name": "Python 3",
   "language": "python",
   "name": "python3"
  },
  "language_info": {
   "codemirror_mode": {
    "name": "ipython",
    "version": 3
   },
   "file_extension": ".py",
   "mimetype": "text/x-python",
   "name": "python",
   "nbconvert_exporter": "python",
   "pygments_lexer": "ipython3",
   "version": "3.6.1"
  }
 },
 "nbformat": 4,
 "nbformat_minor": 2
}
