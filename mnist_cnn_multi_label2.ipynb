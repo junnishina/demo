{
 "cells": [
  {
   "cell_type": "code",
   "execution_count": 53,
   "metadata": {
    "scrolled": true
   },
   "outputs": [
    {
     "name": "stdout",
     "output_type": "stream",
     "text": [
      "x_train shape: (60000, 28, 28, 1)\n"
     ]
    }
   ],
   "source": [
    "from __future__ import print_function\n",
    "import keras\n",
    "from keras.datasets import mnist\n",
    "from keras.models import Sequential\n",
    "from keras.layers import Dense, Dropout, Flatten\n",
    "from keras.layers import Conv2D, MaxPooling2D\n",
    "from keras import backend as K\n",
    "\n",
    "batch_size = 32\n",
    "num_classes = 10\n",
    "epochs = 8\n",
    "\n",
    "img_rows, img_cols = 28, 28\n",
    "\n",
    "(x_train, y_train), (x_test, y_test) = mnist.load_data()\n",
    "x_train = x_train.reshape(x_train.shape[0], img_rows, img_cols, 1)\n",
    "x_test = x_test.reshape(x_test.shape[0], img_rows, img_cols, 1)\n",
    "\n",
    "x_train = x_train.astype('float32')\n",
    "x_test = x_test.astype('float32')\n",
    "x_train /= 255\n",
    "x_test /= 255\n",
    "print('x_train shape:', x_train.shape)"
   ]
  },
  {
   "cell_type": "code",
   "execution_count": 54,
   "metadata": {},
   "outputs": [],
   "source": [
    "import numpy as np\n",
    "%matplotlib inline\n",
    "import matplotlib.pyplot as plt"
   ]
  },
  {
   "cell_type": "markdown",
   "metadata": {},
   "source": [
    "色の情報を付加する。1文字目→赤、２文字目→緑、３文字目→青、…のように変換。"
   ]
  },
  {
   "cell_type": "code",
   "execution_count": 55,
   "metadata": {
    "scrolled": true
   },
   "outputs": [],
   "source": [
    "def conv_x(x_arr):\n",
    "    x1_arr = []\n",
    "    for i, x in enumerate(x_arr):\n",
    "        n = i%3\n",
    "        x1 = np.zeros((28,28,3))\n",
    "        x1[:,:,n] = x[:,:,0]\n",
    "        #plt.imshow(x1)\n",
    "        x1_arr.append(x1)\n",
    "    return np.array(x1_arr)\n",
    "\n",
    "x_train = conv_x(x_train)\n",
    "x_test = conv_x(x_test)"
   ]
  },
  {
   "cell_type": "markdown",
   "metadata": {},
   "source": [
    "ラベルのほうは、赤の”１”→ [0 1 0 0 0 0 0 0 0 0  1 0 0]のようなbinalizationを行う。最後の３桁はRGB"
   ]
  },
  {
   "cell_type": "code",
   "execution_count": 56,
   "metadata": {},
   "outputs": [],
   "source": [
    "def conv_y(y0_arr):\n",
    "    y1_arr = keras.utils.to_categorical(y0_arr, num_classes)\n",
    "    y2_arr = np.array([i%3 for i,y in enumerate(y0_arr)])\n",
    "    y2_arr = keras.utils.to_categorical(y2_arr)\n",
    "    \n",
    "    return np.c_[y1_arr, y2_arr]\n",
    "\n",
    "y_train = conv_y(y_train)\n",
    "y_test = conv_y(y_test)"
   ]
  },
  {
   "cell_type": "code",
   "execution_count": 57,
   "metadata": {},
   "outputs": [
    {
     "data": {
      "text/plain": [
       "<matplotlib.image.AxesImage at 0x24300e3b048>"
      ]
     },
     "execution_count": 57,
     "metadata": {},
     "output_type": "execute_result"
    },
    {
     "data": {
      "image/png": "[encoded data removed]",
      "text/plain": [
       "<Figure size 432x288 with 1 Axes>"
      ]
     },
     "metadata": {},
     "output_type": "display_data"
    }
   ],
   "source": [
    "plt.imshow(x_train[3])"
   ]
  },
  {
   "cell_type": "code",
   "execution_count": 58,
   "metadata": {
    "scrolled": true
   },
   "outputs": [
    {
     "data": {
      "text/plain": [
       "array([0., 1., 0., 0., 0., 0., 0., 0., 0., 0., 1., 0., 0.], dtype=float32)"
      ]
     },
     "execution_count": 58,
     "metadata": {},
     "output_type": "execute_result"
    }
   ],
   "source": [
    "y_train[3]"
   ]
  },
  {
   "cell_type": "code",
   "execution_count": 59,
   "metadata": {},
   "outputs": [
    {
     "data": {
      "text/plain": [
       "(60000, 28, 28, 3)"
      ]
     },
     "execution_count": 59,
     "metadata": {},
     "output_type": "execute_result"
    }
   ],
   "source": [
    "x_train.shape"
   ]
  },
  {
   "cell_type": "code",
   "execution_count": 60,
   "metadata": {
    "scrolled": true
   },
   "outputs": [],
   "source": [
    "input_shape = (28,28,3)\n",
    "\n",
    "model = Sequential()\n",
    "model.add(Conv2D(32, kernel_size=(3, 3),\n",
    "                 activation='relu',\n",
    "                 input_shape=input_shape))\n",
    "model.add(MaxPooling2D(pool_size=(2, 2)))\n",
    "model.add(Conv2D(64, (3, 3), activation='relu'))\n",
    "model.add(MaxPooling2D(pool_size=(2, 2)))\n",
    "model.add(Dropout(0.25))\n",
    "model.add(Flatten())\n",
    "model.add(Dense(128, activation='relu'))\n",
    "model.add(Dropout(0.5))\n",
    "#model.add(Dense(num_classes, activation='softmax'))\n",
    "model.add(Dense(num_classes + 3, activation='sigmoid'))\n",
    "\n",
    "#model.compile(loss=keras.losses.categorical_crossentropy,\n",
    "model.compile(loss=keras.losses.binary_crossentropy,\n",
    "              optimizer=keras.optimizers.Adadelta(),\n",
    "              metrics=['accuracy'])"
   ]
  },
  {
   "cell_type": "code",
   "execution_count": 61,
   "metadata": {},
   "outputs": [
    {
     "name": "stdout",
     "output_type": "stream",
     "text": [
      "Train on 60000 samples, validate on 10000 samples\n",
      "Epoch 1/8\n",
      "60000/60000 [==============================] - 11s 190us/step - loss: 0.0753 - acc: 0.9737 - val_loss: 0.0180 - val_acc: 0.9938\n",
      "Epoch 2/8\n",
      "60000/60000 [==============================] - 11s 176us/step - loss: 0.0301 - acc: 0.9899 - val_loss: 0.0120 - val_acc: 0.9959\n",
      "Epoch 3/8\n",
      "60000/60000 [==============================] - 10s 173us/step - loss: 0.0226 - acc: 0.9924 - val_loss: 0.0094 - val_acc: 0.9966\n",
      "Epoch 4/8\n",
      "60000/60000 [==============================] - 11s 176us/step - loss: 0.0195 - acc: 0.9936 - val_loss: 0.0085 - val_acc: 0.9971\n",
      "Epoch 5/8\n",
      "60000/60000 [==============================] - 11s 179us/step - loss: 0.0170 - acc: 0.9945 - val_loss: 0.0075 - val_acc: 0.9973\n",
      "Epoch 6/8\n",
      "60000/60000 [==============================] - 11s 180us/step - loss: 0.0154 - acc: 0.9950 - val_loss: 0.0070 - val_acc: 0.9974\n",
      "Epoch 7/8\n",
      "60000/60000 [==============================] - 11s 177us/step - loss: 0.0141 - acc: 0.9954 - val_loss: 0.0061 - val_acc: 0.9979\n",
      "Epoch 8/8\n",
      "60000/60000 [==============================] - 11s 177us/step - loss: 0.0134 - acc: 0.9957 - val_loss: 0.0059 - val_acc: 0.9979\n",
      "Test loss: 0.005886891667450254\n",
      "Test accuracy: 0.997923069190979\n"
     ]
    }
   ],
   "source": [
    "model.fit(x_train, y_train,\n",
    "          batch_size=batch_size,\n",
    "          epochs=epochs,\n",
    "          verbose=1,\n",
    "          validation_data=(x_test, y_test))\n",
    "score = model.evaluate(x_test, y_test, verbose=0)\n",
    "print('Test loss:', score[0])\n",
    "print('Test accuracy:', score[1])"
   ]
  },
  {
   "cell_type": "code",
   "execution_count": null,
   "metadata": {},
   "outputs": [],
   "source": []
  }
 ],
 "metadata": {
  "kernelspec": {
   "display_name": "Python 3",
   "language": "python",
   "name": "python3"
  },
  "language_info": {
   "codemirror_mode": {
    "name": "ipython",
    "version": 3
   },
   "file_extension": ".py",
   "mimetype": "text/x-python",
   "name": "python",
   "nbconvert_exporter": "python",
   "pygments_lexer": "ipython3",
   "version": "3.6.5"
  },
  "toc": {
   "nav_menu": {},
   "number_sections": true,
   "sideBar": true,
   "skip_h1_title": false,
   "title_cell": "Table of Contents",
   "title_sidebar": "Contents",
   "toc_cell": false,
   "toc_position": {},
   "toc_section_display": true,
   "toc_window_display": false
  }
 },
 "nbformat": 4,
 "nbformat_minor": 2
}
