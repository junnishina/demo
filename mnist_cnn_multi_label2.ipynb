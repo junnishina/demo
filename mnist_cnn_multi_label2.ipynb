{
 "cells": [
  {
   "cell_type": "code",
   "execution_count": 25,
   "metadata": {
    "scrolled": true
   },
   "outputs": [
    {
     "name": "stdout",
     "output_type": "stream",
     "text": [
      "x_train shape: (60000, 28, 28, 1)\n"
     ]
    }
   ],
   "source": [
    "from __future__ import print_function\n",
    "import keras\n",
    "from keras.datasets import mnist\n",
    "from keras.models import Sequential\n",
    "from keras.layers import Dense, Dropout, Flatten\n",
    "from keras.layers import Conv2D, MaxPooling2D\n",
    "from keras import backend as K\n",
    "\n",
    "batch_size = 32\n",
    "num_classes = 10\n",
    "epochs = 50\n",
    "\n",
    "img_rows, img_cols = 28, 28\n",
    "\n",
    "(x_train, y_train), (x_test, y_test) = mnist.load_data()\n",
    "x_train = x_train.reshape(x_train.shape[0], img_rows, img_cols, 1)\n",
    "x_test = x_test.reshape(x_test.shape[0], img_rows, img_cols, 1)\n",
    "\n",
    "x_train = x_train.astype('float32')\n",
    "x_test = x_test.astype('float32')\n",
    "x_train /= 255\n",
    "x_test /= 255\n",
    "print('x_train shape:', x_train.shape)"
   ]
  },
  {
   "cell_type": "code",
   "execution_count": 26,
   "metadata": {},
   "outputs": [],
   "source": [
    "import numpy as np\n",
    "%matplotlib inline\n",
    "import matplotlib.pyplot as plt"
   ]
  },
  {
   "cell_type": "markdown",
   "metadata": {},
   "source": [
    "2000と指定するが、入れるtrain, testデータは結局4000個になる。"
   ]
  },
  {
   "cell_type": "code",
   "execution_count": 27,
   "metadata": {},
   "outputs": [],
   "source": [
    "N=2000"
   ]
  },
  {
   "cell_type": "markdown",
   "metadata": {},
   "source": [
    "2個つながった画像にする。公平性のため、左右を反対になった同じペアも加える。"
   ]
  },
  {
   "cell_type": "code",
   "execution_count": 29,
   "metadata": {},
   "outputs": [],
   "source": [
    "def conv_x(x0):\n",
    "    x1 = []\n",
    "    for i in range(N):\n",
    "        x1.append(np.c_[x0[i*2][:,:,0], x0[i*2+1][:,:,0]])\n",
    "        x1.append(np.c_[x0[i*2+1][:,:,0], x0[i*2][:,:,0]])\n",
    "    return np.array(x1).reshape(2*N,28,56,1)\n",
    "    \n",
    "x_train = conv_x(x_train)\n",
    "x_test = conv_x(x_test)\n",
    "\n",
    "# convert class vectors to binary class matrices\n",
    "#y_train = keras.utils.to_categorical(y_train, num_classes)\n",
    "#y_test = keras.utils.to_categorical(y_test, num_classes)"
   ]
  },
  {
   "cell_type": "markdown",
   "metadata": {},
   "source": [
    "ラベルのほうは、[2 9] -> [0 0 1 0 0 0 0 0 0 1] のようなbinalizationをする"
   ]
  },
  {
   "cell_type": "code",
   "execution_count": 30,
   "metadata": {},
   "outputs": [],
   "source": [
    "def conv_y(y0):\n",
    "    y1 = []\n",
    "    for i in range(N):\n",
    "        y = np.zeros(10)\n",
    "        digit1 = y0[i*2]\n",
    "        digit2 = y0[i*2 +1]        \n",
    "        y[digit1] = 1\n",
    "        y[digit2] = 1\n",
    "        y1.append(y)\n",
    "        y1.append(y)\n",
    "    return np.array(y1)\n",
    "y_train = conv_y(y_train)\n",
    "y_test = conv_y(y_test)"
   ]
  },
  {
   "cell_type": "code",
   "execution_count": 31,
   "metadata": {
    "scrolled": true
   },
   "outputs": [
    {
     "data": {
      "text/plain": [
       "<matplotlib.image.AxesImage at 0x182a4797400>"
      ]
     },
     "execution_count": 31,
     "metadata": {},
     "output_type": "execute_result"
    },
    {
     "data": {
      "image/png": "[encoded data removed]",
      "text/plain": [
       "<Figure size 432x288 with 1 Axes>"
      ]
     },
     "metadata": {},
     "output_type": "display_data"
    }
   ],
   "source": [
    "plt.imshow(x_train[5][:,:,0])"
   ]
  },
  {
   "cell_type": "code",
   "execution_count": 32,
   "metadata": {
    "scrolled": true
   },
   "outputs": [
    {
     "data": {
      "text/plain": [
       "array([0., 0., 1., 0., 0., 0., 0., 0., 0., 1.])"
      ]
     },
     "execution_count": 32,
     "metadata": {},
     "output_type": "execute_result"
    }
   ],
   "source": [
    "y_train[5]"
   ]
  },
  {
   "cell_type": "code",
   "execution_count": 33,
   "metadata": {},
   "outputs": [
    {
     "name": "stdout",
     "output_type": "stream",
     "text": [
      "Train on 4000 samples, validate on 4000 samples\n",
      "Epoch 1/50\n",
      "4000/4000 [==============================] - 2s 428us/step - loss: 0.4942 - acc: 0.8034 - val_loss: 0.4211 - val_acc: 0.8260\n",
      "Epoch 2/50\n",
      "4000/4000 [==============================] - 1s 254us/step - loss: 0.3786 - acc: 0.8430 - val_loss: 0.2998 - val_acc: 0.8814\n",
      "Epoch 3/50\n",
      "4000/4000 [==============================] - 1s 251us/step - loss: 0.2887 - acc: 0.8839 - val_loss: 0.2178 - val_acc: 0.9163\n",
      "Epoch 4/50\n",
      "4000/4000 [==============================] - 1s 245us/step - loss: 0.2382 - acc: 0.9058 - val_loss: 0.1828 - val_acc: 0.9331\n",
      "Epoch 5/50\n",
      "4000/4000 [==============================] - 1s 244us/step - loss: 0.2006 - acc: 0.9231 - val_loss: 0.1526 - val_acc: 0.9413\n",
      "Epoch 6/50\n",
      "4000/4000 [==============================] - 1s 246us/step - loss: 0.1737 - acc: 0.9357 - val_loss: 0.1422 - val_acc: 0.9491\n",
      "Epoch 7/50\n",
      "4000/4000 [==============================] - 1s 248us/step - loss: 0.1566 - acc: 0.9418 - val_loss: 0.1103 - val_acc: 0.9595\n",
      "Epoch 8/50\n",
      "4000/4000 [==============================] - 1s 246us/step - loss: 0.1399 - acc: 0.9491 - val_loss: 0.1033 - val_acc: 0.9633\n",
      "Epoch 9/50\n",
      "4000/4000 [==============================] - 1s 252us/step - loss: 0.1298 - acc: 0.9536 - val_loss: 0.1006 - val_acc: 0.9630\n",
      "Epoch 10/50\n",
      "4000/4000 [==============================] - 1s 250us/step - loss: 0.1170 - acc: 0.9583 - val_loss: 0.0884 - val_acc: 0.9678\n",
      "Epoch 11/50\n",
      "4000/4000 [==============================] - 1s 246us/step - loss: 0.1118 - acc: 0.9605 - val_loss: 0.0876 - val_acc: 0.9691\n",
      "Epoch 12/50\n",
      "4000/4000 [==============================] - 1s 245us/step - loss: 0.1043 - acc: 0.9635 - val_loss: 0.0858 - val_acc: 0.9695\n",
      "Epoch 13/50\n",
      "4000/4000 [==============================] - 1s 242us/step - loss: 0.0944 - acc: 0.9667 - val_loss: 0.0812 - val_acc: 0.9714\n",
      "Epoch 14/50\n",
      "4000/4000 [==============================] - 1s 242us/step - loss: 0.0875 - acc: 0.9688 - val_loss: 0.0778 - val_acc: 0.9723\n",
      "Epoch 15/50\n",
      "4000/4000 [==============================] - 1s 245us/step - loss: 0.0829 - acc: 0.9709 - val_loss: 0.0785 - val_acc: 0.9722\n",
      "Epoch 16/50\n",
      "4000/4000 [==============================] - 1s 243us/step - loss: 0.0803 - acc: 0.9725 - val_loss: 0.0690 - val_acc: 0.9756\n",
      "Epoch 17/50\n",
      "4000/4000 [==============================] - 1s 248us/step - loss: 0.0782 - acc: 0.9732 - val_loss: 0.0693 - val_acc: 0.9765\n",
      "Epoch 18/50\n",
      "4000/4000 [==============================] - 1s 244us/step - loss: 0.0728 - acc: 0.9751 - val_loss: 0.0643 - val_acc: 0.9777\n",
      "Epoch 19/50\n",
      "4000/4000 [==============================] - 1s 245us/step - loss: 0.0673 - acc: 0.9766 - val_loss: 0.0623 - val_acc: 0.9790\n",
      "Epoch 20/50\n",
      "4000/4000 [==============================] - 1s 248us/step - loss: 0.0659 - acc: 0.9774 - val_loss: 0.0635 - val_acc: 0.9781\n",
      "Epoch 21/50\n",
      "4000/4000 [==============================] - 1s 244us/step - loss: 0.0637 - acc: 0.9785 - val_loss: 0.0679 - val_acc: 0.9764\n",
      "Epoch 22/50\n",
      "4000/4000 [==============================] - 1s 243us/step - loss: 0.0591 - acc: 0.9796 - val_loss: 0.0599 - val_acc: 0.9796\n",
      "Epoch 23/50\n",
      "4000/4000 [==============================] - 1s 244us/step - loss: 0.0574 - acc: 0.9810 - val_loss: 0.0575 - val_acc: 0.9802\n",
      "Epoch 24/50\n",
      "4000/4000 [==============================] - 1s 246us/step - loss: 0.0535 - acc: 0.9818 - val_loss: 0.0615 - val_acc: 0.9784\n",
      "Epoch 25/50\n",
      "4000/4000 [==============================] - 1s 246us/step - loss: 0.0525 - acc: 0.9821 - val_loss: 0.0614 - val_acc: 0.9789\n",
      "Epoch 26/50\n",
      "4000/4000 [==============================] - 1s 245us/step - loss: 0.0482 - acc: 0.9834 - val_loss: 0.0552 - val_acc: 0.9813\n",
      "Epoch 27/50\n",
      "4000/4000 [==============================] - 1s 247us/step - loss: 0.0462 - acc: 0.9846 - val_loss: 0.0563 - val_acc: 0.9813\n",
      "Epoch 28/50\n",
      "4000/4000 [==============================] - 1s 245us/step - loss: 0.0455 - acc: 0.9856 - val_loss: 0.0587 - val_acc: 0.9801\n",
      "Epoch 29/50\n",
      "4000/4000 [==============================] - 1s 247us/step - loss: 0.0421 - acc: 0.9849 - val_loss: 0.0649 - val_acc: 0.9780\n",
      "Epoch 30/50\n",
      "4000/4000 [==============================] - 1s 247us/step - loss: 0.0429 - acc: 0.9852 - val_loss: 0.0555 - val_acc: 0.9815\n",
      "Epoch 31/50\n",
      "4000/4000 [==============================] - 1s 245us/step - loss: 0.0403 - acc: 0.9859 - val_loss: 0.0557 - val_acc: 0.9814\n",
      "Epoch 32/50\n",
      "4000/4000 [==============================] - 1s 246us/step - loss: 0.0396 - acc: 0.9869 - val_loss: 0.0522 - val_acc: 0.9829\n",
      "Epoch 33/50\n",
      "4000/4000 [==============================] - 1s 243us/step - loss: 0.0351 - acc: 0.9879 - val_loss: 0.0579 - val_acc: 0.9815\n",
      "Epoch 34/50\n",
      "4000/4000 [==============================] - 1s 247us/step - loss: 0.0334 - acc: 0.9887 - val_loss: 0.0568 - val_acc: 0.9825\n",
      "Epoch 35/50\n",
      "4000/4000 [==============================] - 1s 243us/step - loss: 0.0353 - acc: 0.9884 - val_loss: 0.0574 - val_acc: 0.9816\n",
      "Epoch 36/50\n",
      "4000/4000 [==============================] - 1s 245us/step - loss: 0.0347 - acc: 0.9879 - val_loss: 0.0637 - val_acc: 0.9806\n",
      "Epoch 37/50\n",
      "4000/4000 [==============================] - 1s 245us/step - loss: 0.0281 - acc: 0.9903 - val_loss: 0.0570 - val_acc: 0.9828\n",
      "Epoch 38/50\n",
      "4000/4000 [==============================] - 1s 248us/step - loss: 0.0332 - acc: 0.9887 - val_loss: 0.0577 - val_acc: 0.9827\n",
      "Epoch 39/50\n",
      "4000/4000 [==============================] - 1s 246us/step - loss: 0.0294 - acc: 0.9903 - val_loss: 0.0562 - val_acc: 0.9834\n",
      "Epoch 40/50\n",
      "4000/4000 [==============================] - 1s 247us/step - loss: 0.0278 - acc: 0.9907 - val_loss: 0.0563 - val_acc: 0.9827\n",
      "Epoch 41/50\n",
      "4000/4000 [==============================] - 1s 242us/step - loss: 0.0278 - acc: 0.9910 - val_loss: 0.0563 - val_acc: 0.9830\n",
      "Epoch 42/50\n",
      "4000/4000 [==============================] - 1s 247us/step - loss: 0.0270 - acc: 0.9913 - val_loss: 0.0556 - val_acc: 0.9830\n",
      "Epoch 43/50\n",
      "4000/4000 [==============================] - 1s 243us/step - loss: 0.0245 - acc: 0.9920 - val_loss: 0.0584 - val_acc: 0.9829\n",
      "Epoch 44/50\n",
      "4000/4000 [==============================] - 1s 248us/step - loss: 0.0245 - acc: 0.9917 - val_loss: 0.0540 - val_acc: 0.9842\n",
      "Epoch 45/50\n",
      "4000/4000 [==============================] - 1s 257us/step - loss: 0.0269 - acc: 0.9910 - val_loss: 0.0565 - val_acc: 0.9831\n",
      "Epoch 46/50\n",
      "4000/4000 [==============================] - 1s 255us/step - loss: 0.0215 - acc: 0.9931 - val_loss: 0.0557 - val_acc: 0.9840\n",
      "Epoch 47/50\n",
      "4000/4000 [==============================] - 1s 245us/step - loss: 0.0233 - acc: 0.9917 - val_loss: 0.0579 - val_acc: 0.9835\n",
      "Epoch 48/50\n",
      "4000/4000 [==============================] - 1s 255us/step - loss: 0.0221 - acc: 0.9922 - val_loss: 0.0648 - val_acc: 0.9816\n",
      "Epoch 49/50\n",
      "4000/4000 [==============================] - 1s 244us/step - loss: 0.0223 - acc: 0.9929 - val_loss: 0.0591 - val_acc: 0.9834\n",
      "Epoch 50/50\n",
      "4000/4000 [==============================] - 1s 244us/step - loss: 0.0213 - acc: 0.9930 - val_loss: 0.0595 - val_acc: 0.9838\n",
      "Test loss: 0.0595499078668654\n",
      "Test accuracy: 0.9838250021934509\n"
     ]
    }
   ],
   "source": [
    "input_shape = (28,56,1)\n",
    "\n",
    "model = Sequential()\n",
    "model.add(Conv2D(32, kernel_size=(3, 3),\n",
    "                 activation='relu',\n",
    "                 input_shape=input_shape))\n",
    "model.add(MaxPooling2D(pool_size=(2, 2)))\n",
    "model.add(Conv2D(64, (3, 3), activation='relu'))\n",
    "model.add(MaxPooling2D(pool_size=(2, 2)))\n",
    "model.add(Conv2D(64, (3, 3), activation='relu'))\n",
    "model.add(MaxPooling2D(pool_size=(2, 2)))\n",
    "model.add(Dropout(0.25))\n",
    "model.add(Flatten())\n",
    "model.add(Dense(128, activation='relu'))\n",
    "model.add(Dropout(0.5))\n",
    "#model.add(Dense(num_classes, activation='softmax'))\n",
    "model.add(Dense(num_classes, activation='sigmoid'))\n",
    "\n",
    "#model.compile(loss=keras.losses.categorical_crossentropy,\n",
    "model.compile(loss=keras.losses.binary_crossentropy,\n",
    "              optimizer=keras.optimizers.Adadelta(),\n",
    "              metrics=['accuracy'])\n",
    "\n",
    "model.fit(x_train, y_train,\n",
    "          batch_size=batch_size,\n",
    "          epochs=epochs,\n",
    "          verbose=1,\n",
    "          validation_data=(x_test, y_test))\n",
    "score = model.evaluate(x_test, y_test, verbose=0)\n",
    "print('Test loss:', score[0])\n",
    "print('Test accuracy:', score[1])"
   ]
  },
  {
   "cell_type": "code",
   "execution_count": null,
   "metadata": {},
   "outputs": [],
   "source": []
  }
 ],
 "metadata": {
  "kernelspec": {
   "display_name": "Python 3",
   "language": "python",
   "name": "python3"
  },
  "language_info": {
   "codemirror_mode": {
    "name": "ipython",
    "version": 3
   },
   "file_extension": ".py",
   "mimetype": "text/x-python",
   "name": "python",
   "nbconvert_exporter": "python",
   "pygments_lexer": "ipython3",
   "version": "3.6.5"
  },
  "toc": {
   "nav_menu": {},
   "number_sections": true,
   "sideBar": true,
   "skip_h1_title": false,
   "title_cell": "Table of Contents",
   "title_sidebar": "Contents",
   "toc_cell": false,
   "toc_position": {},
   "toc_section_display": true,
   "toc_window_display": false
  }
 },
 "nbformat": 4,
 "nbformat_minor": 2
}
