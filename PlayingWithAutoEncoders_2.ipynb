{
 "cells": [
  {
   "cell_type": "markdown",
   "metadata": {},
   "source": [
    "次に中間層の要素数を減らしてみよう。32個にしてみる。"
   ]
  },
  {
   "cell_type": "code",
   "execution_count": 37,
   "metadata": {},
   "outputs": [],
   "source": [
    "from __future__ import print_function\n",
    "\n",
    "import keras\n",
    "from keras.datasets import mnist\n",
    "from keras.models import Sequential\n",
    "from keras.layers import Dense, Dropout\n",
    "from keras.optimizers import RMSprop"
   ]
  },
  {
   "cell_type": "code",
   "execution_count": 38,
   "metadata": {
    "collapsed": true
   },
   "outputs": [],
   "source": [
    "import numpy as np"
   ]
  },
  {
   "cell_type": "code",
   "execution_count": 39,
   "metadata": {
    "collapsed": true
   },
   "outputs": [],
   "source": [
    "batch_size = 128\n",
    "epochs = 50\n",
    "\n",
    "# the data, shuffled and split between train and test sets\n",
    "(x_train, y_train), (x_test, y_test) = mnist.load_data()\n",
    "x_train = x_train.astype('float32')\n",
    "x_test = x_test.astype('float32')\n",
    "x_train /= 255\n",
    "x_test /= 255"
   ]
  },
  {
   "cell_type": "code",
   "execution_count": 40,
   "metadata": {},
   "outputs": [],
   "source": [
    "keep_train_idx = np.logical_or(y_train == 4, y_train == 9)\n",
    "keep_test_idx = np.logical_or(y_test ==4, y_test == 9)\n",
    "\n",
    "x_train = x_train[keep_train_idx]\n",
    "x_test = x_test[keep_test_idx]"
   ]
  },
  {
   "cell_type": "code",
   "execution_count": 41,
   "metadata": {},
   "outputs": [],
   "source": [
    "x_train_vec = x_train.reshape(x_train.shape[0], 784)\n",
    "x_test_vec = x_test.reshape(x_test.shape[0], 784)"
   ]
  },
  {
   "cell_type": "code",
   "execution_count": 42,
   "metadata": {
    "scrolled": true
   },
   "outputs": [
    {
     "name": "stdout",
     "output_type": "stream",
     "text": [
      "_________________________________________________________________\n",
      "Layer (type)                 Output Shape              Param #   \n",
      "=================================================================\n",
      "dense_11 (Dense)             (None, 32)                25120     \n",
      "_________________________________________________________________\n",
      "dropout_6 (Dropout)          (None, 32)                0         \n",
      "_________________________________________________________________\n",
      "dense_12 (Dense)             (None, 784)               25872     \n",
      "=================================================================\n",
      "Total params: 50,992\n",
      "Trainable params: 50,992\n",
      "Non-trainable params: 0\n",
      "_________________________________________________________________\n"
     ]
    }
   ],
   "source": [
    "model = Sequential()\n",
    "model.add(Dense(32, activation='sigmoid', input_shape=(784,)))\n",
    "model.add(Dropout(0.3))\n",
    "model.add(Dense(784, activation='sigmoid'))\n",
    "model.summary()"
   ]
  },
  {
   "cell_type": "code",
   "execution_count": 43,
   "metadata": {},
   "outputs": [
    {
     "name": "stdout",
     "output_type": "stream",
     "text": [
      "Train on 11791 samples, validate on 1991 samples\n",
      "Epoch 1/50\n",
      "11791/11791 [==============================] - 0s - loss: 0.0939 - acc: 0.0071 - val_loss: 0.0551 - val_acc: 0.0095\n",
      "Epoch 2/50\n",
      "11791/11791 [==============================] - 0s - loss: 0.0541 - acc: 0.0075 - val_loss: 0.0521 - val_acc: 0.0095\n",
      "Epoch 3/50\n",
      "11791/11791 [==============================] - 0s - loss: 0.0529 - acc: 0.0063 - val_loss: 0.0514 - val_acc: 0.0080\n",
      "Epoch 4/50\n",
      "11791/11791 [==============================] - 0s - loss: 0.0506 - acc: 0.0096 - val_loss: 0.0478 - val_acc: 0.0075\n",
      "Epoch 5/50\n",
      "11791/11791 [==============================] - 0s - loss: 0.0471 - acc: 0.0098 - val_loss: 0.0442 - val_acc: 0.0095\n",
      "Epoch 6/50\n",
      "11791/11791 [==============================] - 0s - loss: 0.0441 - acc: 0.0109 - val_loss: 0.0413 - val_acc: 0.0116\n",
      "Epoch 7/50\n",
      "11791/11791 [==============================] - 0s - loss: 0.0418 - acc: 0.0120 - val_loss: 0.0390 - val_acc: 0.0105\n",
      "Epoch 8/50\n",
      "11791/11791 [==============================] - 0s - loss: 0.0402 - acc: 0.0125 - val_loss: 0.0373 - val_acc: 0.0095\n",
      "Epoch 9/50\n",
      "11791/11791 [==============================] - 0s - loss: 0.0388 - acc: 0.0105 - val_loss: 0.0357 - val_acc: 0.0105\n",
      "Epoch 10/50\n",
      "11791/11791 [==============================] - 0s - loss: 0.0376 - acc: 0.0119 - val_loss: 0.0344 - val_acc: 0.0105\n",
      "Epoch 11/50\n",
      "11791/11791 [==============================] - 0s - loss: 0.0368 - acc: 0.0107 - val_loss: 0.0333 - val_acc: 0.0105\n",
      "Epoch 12/50\n",
      "11791/11791 [==============================] - 0s - loss: 0.0361 - acc: 0.0109 - val_loss: 0.0324 - val_acc: 0.0105\n",
      "Epoch 13/50\n",
      "11791/11791 [==============================] - 0s - loss: 0.0355 - acc: 0.0096 - val_loss: 0.0315 - val_acc: 0.0100\n",
      "Epoch 14/50\n",
      "11791/11791 [==============================] - 0s - loss: 0.0349 - acc: 0.0099 - val_loss: 0.0309 - val_acc: 0.0121\n",
      "Epoch 15/50\n",
      "11791/11791 [==============================] - 0s - loss: 0.0344 - acc: 0.0101 - val_loss: 0.0302 - val_acc: 0.0090\n",
      "Epoch 16/50\n",
      "11791/11791 [==============================] - 0s - loss: 0.0342 - acc: 0.0088 - val_loss: 0.0297 - val_acc: 0.0126\n",
      "Epoch 17/50\n",
      "11791/11791 [==============================] - 0s - loss: 0.0337 - acc: 0.0079 - val_loss: 0.0291 - val_acc: 0.0105\n",
      "Epoch 18/50\n",
      "11791/11791 [==============================] - 0s - loss: 0.0334 - acc: 0.0095 - val_loss: 0.0285 - val_acc: 0.0121\n",
      "Epoch 19/50\n",
      "11791/11791 [==============================] - 0s - loss: 0.0331 - acc: 0.0081 - val_loss: 0.0282 - val_acc: 0.0090\n",
      "Epoch 20/50\n",
      "11791/11791 [==============================] - 0s - loss: 0.0329 - acc: 0.0107 - val_loss: 0.0277 - val_acc: 0.0085\n",
      "Epoch 21/50\n",
      "11791/11791 [==============================] - 0s - loss: 0.0328 - acc: 0.0089 - val_loss: 0.0274 - val_acc: 0.0100\n",
      "Epoch 22/50\n",
      "11791/11791 [==============================] - 0s - loss: 0.0325 - acc: 0.0094 - val_loss: 0.0271 - val_acc: 0.0110\n",
      "Epoch 23/50\n",
      "11791/11791 [==============================] - 0s - loss: 0.0323 - acc: 0.0082 - val_loss: 0.0268 - val_acc: 0.0105\n",
      "Epoch 24/50\n",
      "11791/11791 [==============================] - 0s - loss: 0.0322 - acc: 0.0087 - val_loss: 0.0265 - val_acc: 0.0116\n",
      "Epoch 25/50\n",
      "11791/11791 [==============================] - 0s - loss: 0.0319 - acc: 0.0096 - val_loss: 0.0261 - val_acc: 0.0100\n",
      "Epoch 26/50\n",
      "11791/11791 [==============================] - 0s - loss: 0.0318 - acc: 0.0099 - val_loss: 0.0259 - val_acc: 0.0121\n",
      "Epoch 27/50\n",
      "11791/11791 [==============================] - 0s - loss: 0.0316 - acc: 0.0103 - val_loss: 0.0257 - val_acc: 0.0090\n",
      "Epoch 28/50\n",
      "11791/11791 [==============================] - 0s - loss: 0.0315 - acc: 0.0102 - val_loss: 0.0255 - val_acc: 0.0110\n",
      "Epoch 29/50\n",
      "11791/11791 [==============================] - 0s - loss: 0.0313 - acc: 0.0115 - val_loss: 0.0253 - val_acc: 0.0146\n",
      "Epoch 30/50\n",
      "11791/11791 [==============================] - 0s - loss: 0.0313 - acc: 0.0110 - val_loss: 0.0250 - val_acc: 0.0121\n",
      "Epoch 31/50\n",
      "11791/11791 [==============================] - 0s - loss: 0.0311 - acc: 0.0094 - val_loss: 0.0248 - val_acc: 0.0121\n",
      "Epoch 32/50\n",
      "11791/11791 [==============================] - 0s - loss: 0.0310 - acc: 0.0105 - val_loss: 0.0247 - val_acc: 0.0105\n",
      "Epoch 33/50\n",
      "11791/11791 [==============================] - 0s - loss: 0.0308 - acc: 0.0100 - val_loss: 0.0245 - val_acc: 0.0090\n",
      "Epoch 34/50\n",
      "11791/11791 [==============================] - 0s - loss: 0.0307 - acc: 0.0090 - val_loss: 0.0243 - val_acc: 0.0095\n",
      "Epoch 35/50\n",
      "11791/11791 [==============================] - 0s - loss: 0.0306 - acc: 0.0110 - val_loss: 0.0241 - val_acc: 0.0121\n",
      "Epoch 36/50\n",
      "11791/11791 [==============================] - 0s - loss: 0.0305 - acc: 0.0109 - val_loss: 0.0239 - val_acc: 0.0121\n",
      "Epoch 37/50\n",
      "11791/11791 [==============================] - 0s - loss: 0.0303 - acc: 0.0097 - val_loss: 0.0238 - val_acc: 0.0105\n",
      "Epoch 38/50\n",
      "11791/11791 [==============================] - 0s - loss: 0.0301 - acc: 0.0104 - val_loss: 0.0235 - val_acc: 0.0121\n",
      "Epoch 39/50\n",
      "11791/11791 [==============================] - 0s - loss: 0.0299 - acc: 0.0108 - val_loss: 0.0233 - val_acc: 0.0110\n",
      "Epoch 40/50\n",
      "11791/11791 [==============================] - 0s - loss: 0.0298 - acc: 0.0094 - val_loss: 0.0232 - val_acc: 0.0100\n",
      "Epoch 41/50\n",
      "11791/11791 [==============================] - 0s - loss: 0.0295 - acc: 0.0095 - val_loss: 0.0229 - val_acc: 0.0100\n",
      "Epoch 42/50\n",
      "11791/11791 [==============================] - 0s - loss: 0.0294 - acc: 0.0109 - val_loss: 0.0227 - val_acc: 0.0121\n",
      "Epoch 43/50\n",
      "11791/11791 [==============================] - 0s - loss: 0.0291 - acc: 0.0098 - val_loss: 0.0225 - val_acc: 0.0110\n",
      "Epoch 44/50\n",
      "11791/11791 [==============================] - 0s - loss: 0.0289 - acc: 0.0096 - val_loss: 0.0223 - val_acc: 0.0110\n",
      "Epoch 45/50\n",
      "11791/11791 [==============================] - 0s - loss: 0.0287 - acc: 0.0108 - val_loss: 0.0220 - val_acc: 0.0095\n",
      "Epoch 46/50\n",
      "11791/11791 [==============================] - 0s - loss: 0.0285 - acc: 0.0098 - val_loss: 0.0218 - val_acc: 0.0110\n",
      "Epoch 47/50\n",
      "11791/11791 [==============================] - 0s - loss: 0.0284 - acc: 0.0109 - val_loss: 0.0215 - val_acc: 0.0100\n",
      "Epoch 48/50\n",
      "11791/11791 [==============================] - 0s - loss: 0.0281 - acc: 0.0130 - val_loss: 0.0213 - val_acc: 0.0121\n",
      "Epoch 49/50\n",
      "11791/11791 [==============================] - 0s - loss: 0.0278 - acc: 0.0099 - val_loss: 0.0211 - val_acc: 0.0090\n",
      "Epoch 50/50\n",
      "11791/11791 [==============================] - 0s - loss: 0.0277 - acc: 0.0107 - val_loss: 0.0209 - val_acc: 0.0090\n",
      "Test loss: 0.0208696247477\n",
      "Test accuracy: 0.00904068307383\n"
     ]
    }
   ],
   "source": [
    "model.compile(loss='mean_squared_error',\n",
    "              optimizer=RMSprop(),\n",
    "              metrics=['accuracy'])\n",
    "\n",
    "history = model.fit(x_train_vec, x_train_vec,\n",
    "                    batch_size=batch_size,\n",
    "                    epochs=epochs,\n",
    "                    verbose=1,\n",
    "                    validation_data=(x_test_vec, x_test_vec))\n",
    "score = model.evaluate(x_test_vec, x_test_vec, verbose=0)\n",
    "print('Test loss:', score[0])\n",
    "print('Test accuracy:', score[1])"
   ]
  },
  {
   "cell_type": "markdown",
   "metadata": {},
   "source": [
    "## Testing results "
   ]
  },
  {
   "cell_type": "code",
   "execution_count": 44,
   "metadata": {
    "scrolled": true
   },
   "outputs": [
    {
     "data": {
      "image/png": "[encoded data removed]",
      "text/plain": [
       "<matplotlib.figure.Figure at 0x18000a5de10>"
      ]
     },
     "metadata": {},
     "output_type": "display_data"
    }
   ],
   "source": [
    "import matplotlib.pyplot as plt\n",
    "%matplotlib inline\n",
    "\n",
    "n = 10  # how many digits we will display\n",
    "\n",
    "plt.figure(figsize=(20, 4))\n",
    "for i in range(n):\n",
    "    # display original\n",
    "    ax = plt.subplot(2, n, i + 1)\n",
    "    plt.imshow(x_train[i].reshape(28, 28))\n",
    "    plt.gray()\n",
    "    ax.get_xaxis().set_visible(False)\n",
    "    ax.get_yaxis().set_visible(False)\n",
    "\n",
    "    # display reconstruction\n",
    "    ax = plt.subplot(2, n, i + 1 + n)\n",
    "    predicted = model.predict(x_train_vec[i:i+1]).reshape((28,28))\n",
    "    plt.imshow(predicted)\n",
    "    plt.gray()\n",
    "    ax.get_xaxis().set_visible(False)\n",
    "    ax.get_yaxis().set_visible(False)\n",
    "plt.show()"
   ]
  },
  {
   "cell_type": "markdown",
   "metadata": {},
   "source": [
    "画像に変化があらわれはじめた。中間層数をもっと少なくできるのだろうか。"
   ]
  },
  {
   "cell_type": "code",
   "execution_count": null,
   "metadata": {
    "collapsed": true
   },
   "outputs": [],
   "source": []
  }
 ],
 "metadata": {
  "kernelspec": {
   "display_name": "Python 3",
   "language": "python",
   "name": "python3"
  },
  "language_info": {
   "codemirror_mode": {
    "name": "ipython",
    "version": 3
   },
   "file_extension": ".py",
   "mimetype": "text/x-python",
   "name": "python",
   "nbconvert_exporter": "python",
   "pygments_lexer": "ipython3",
   "version": "3.6.1"
  }
 },
 "nbformat": 4,
 "nbformat_minor": 2
}
