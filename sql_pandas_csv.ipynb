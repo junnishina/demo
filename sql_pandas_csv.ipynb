{
 "cells": [
  {
   "cell_type": "code",
   "execution_count": null,
   "metadata": {},
   "outputs": [],
   "source": [
    "import pymysql\n",
    "import pandas as pd\n",
    "\n",
    "def getSQL(Nlimit0, Noffset0):\n",
    "    sql1 = \"select *\\n\"\n",
    "    sql1 +=\"from fbt_input fi join cos_data cd on (fi.COS_LOT=cd.ASSY_NO and fi.COS_SERIAL=cd.COS_SERIAL)\\n\"\n",
    "    sql1 +=\"join ch_power_isoa_off isoa on fi.lot=isoa.LOT and fi.serial=isoa.SERIAL\\n\"\n",
    "    sql1 +=\"where cd.wafer_lot>'FT750A' and cd.wafer_lot<'FT850D'\\n\"\n",
    "    sql1 +=\"limit \"+str(Nlimit0)+\"\\n\"\n",
    "    sql1 +=\"offset \"+str(Noffset0)+\"\\n\"\n",
    "    return sql1\n",
    "\n",
    "\n",
    "con = pymysql.connect(host='111.222.333.444', user='username', \n",
    "                      passwd='password', db='dbname')\n",
    "cur=con.cursor()\n",
    "\n",
    "try:\n",
    "   s = \"DESC fbt_input\"\n",
    "   cur.execute(s)\n",
    "   res = cur.fetchall()\n",
    "   df1 = pd.DataFrame(list(res))\n",
    "   s = \"DESC cos_data\"\n",
    "   cur.execute(s)\n",
    "   res = cur.fetchall()\n",
    "   df2 = pd.DataFrame(list(res))\n",
    "   s = \"DESC ch_power_isoa_off\"\n",
    "   cur.execute(s)\n",
    "   res = cur.fetchall()\n",
    "   df3 = pd.DataFrame(list(res))\n",
    "   \n",
    "   df = df1.append(df2, ignore_index=True).append(df3, ignore_index=True)\n",
    "   df.iloc[:,0].to_csv('data/header.csv', sep=',', index=None, header=None) \n",
    "   \n",
    "   N0=0\n",
    "   dN=10\n",
    "   for i in range(N0, N0+dN):\n",
    "        Nlimit = 10000\n",
    "        Noffset = i * Nlimit\n",
    "        print(\"saving \"+str(i))\n",
    "        s = getSQL(Nlimit, Noffset)\n",
    "        cur.execute(s)\n",
    "        res = cur.fetchall()\n",
    "        dat = pd.DataFrame(list(res))\n",
    "        dat.to_csv(str(i)+'.csv', sep=',', index=None, header=None) \n",
    "    \n",
    "except pymysql.Error as e:\n",
    "    print('pymysql.Error: ', e)\n",
    "con.close()"
   ]
  }
 ],
 "metadata": {
  "kernelspec": {
   "display_name": "Python 3",
   "language": "python",
   "name": "python3"
  },
  "language_info": {
   "codemirror_mode": {
    "name": "ipython",
    "version": 3
   },
   "file_extension": ".py",
   "mimetype": "text/x-python",
   "name": "python",
   "nbconvert_exporter": "python",
   "pygments_lexer": "ipython3",
   "version": "3.6.1"
  },
  "toc": {
   "nav_menu": {},
   "number_sections": true,
   "sideBar": true,
   "skip_h1_title": false,
   "title_cell": "Table of Contents",
   "title_sidebar": "Contents",
   "toc_cell": false,
   "toc_position": {},
   "toc_section_display": true,
   "toc_window_display": false
  }
 },
 "nbformat": 4,
 "nbformat_minor": 2
}
