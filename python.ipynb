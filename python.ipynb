{
 "cells": [
  {
   "cell_type": "markdown",
   "metadata": {},
   "source": [
    "### reference"
   ]
  },
  {
   "cell_type": "code",
   "execution_count": 3,
   "metadata": {},
   "outputs": [],
   "source": [
    "def ref_abs(a):\n",
    "    return a[:]\n",
    "\n",
    "def ref_rel(a):\n",
    "    return a"
   ]
  },
  {
   "cell_type": "code",
   "execution_count": 4,
   "metadata": {},
   "outputs": [
    {
     "name": "stdout",
     "output_type": "stream",
     "text": [
      "2291675037192\n",
      "2291675037192\n",
      "2291675037320\n"
     ]
    }
   ],
   "source": [
    "a=[0,1,2]\n",
    "print(id(a))\n",
    "print(id(ref_rel(a)))\n",
    "print(id(ref_abs(a)))"
   ]
  },
  {
   "cell_type": "markdown",
   "metadata": {},
   "source": [
    "### format"
   ]
  },
  {
   "cell_type": "code",
   "execution_count": 8,
   "metadata": {
    "scrolled": false
   },
   "outputs": [
    {
     "name": "stdout",
     "output_type": "stream",
     "text": [
      "./AI/FS/7_20170913/PD05/3/0024X.bmp\n"
     ]
    }
   ],
   "source": [
    "print('./AI/FS/7_20170913/PD05/3/0024X.bmp')"
   ]
  },
  {
   "cell_type": "code",
   "execution_count": 9,
   "metadata": {},
   "outputs": [
    {
     "name": "stdout",
     "output_type": "stream",
     "text": [
      "./AI/FS/7_20170913/PD05/3/0024X.bmp\n"
     ]
    }
   ],
   "source": [
    "print('./AI/FS/7_20170913/PD{}/3/0024X.bmp'.format('05'))"
   ]
  },
  {
   "cell_type": "markdown",
   "metadata": {},
   "source": [
    "### object numpy array"
   ]
  },
  {
   "cell_type": "code",
   "execution_count": 10,
   "metadata": {},
   "outputs": [
    {
     "data": {
      "text/plain": [
       "array([['0', '1', '2'],\n",
       "       ['a', 'b', 'c']], dtype='<U11')"
      ]
     },
     "execution_count": 10,
     "metadata": {},
     "output_type": "execute_result"
    }
   ],
   "source": [
    "import numpy as np\n",
    "\n",
    "a = np.array([[0,1,2],['a','b','c']])\n",
    "a"
   ]
  },
  {
   "cell_type": "code",
   "execution_count": 11,
   "metadata": {},
   "outputs": [
    {
     "data": {
      "text/plain": [
       "array([['0', '1', '2'],\n",
       "       ['a', 'b', 'c']], dtype='<U1')"
      ]
     },
     "execution_count": 11,
     "metadata": {},
     "output_type": "execute_result"
    }
   ],
   "source": [
    "np.savetxt('data/test.txt', a, fmt='%s')\n",
    "b = np.genfromtxt('data/test.txt', dtype=str)\n",
    "b"
   ]
  },
  {
   "cell_type": "markdown",
   "metadata": {},
   "source": [
    "### version"
   ]
  },
  {
   "cell_type": "code",
   "execution_count": 13,
   "metadata": {},
   "outputs": [
    {
     "name": "stdout",
     "output_type": "stream",
     "text": [
      "3.6.1 |Anaconda custom (64-bit)| (default, May 11 2017, 13:25:24) [MSC v.1900 64 bit (AMD64)]\n",
      "3.2.0\n"
     ]
    }
   ],
   "source": [
    "import sys\n",
    "print(sys.version)\n",
    "import cv2\n",
    "print(cv2.__version__)"
   ]
  },
  {
   "cell_type": "code",
   "execution_count": 15,
   "metadata": {},
   "outputs": [
    {
     "name": "stdout",
     "output_type": "stream",
     "text": [
      "zict 0.1.2\n",
      "xlwt 1.2.0\n",
      "xlwings 0.10.4\n",
      "XlsxWriter 0.9.6\n",
      "xlrd 1.0.0\n",
      "wrapt 1.10.10\n",
      "wincertstore 0.2\n",
      "win-unicode-console 0.5\n",
      "widgetsnbextension 2.0.0\n",
      "wheel 0.29.0\n",
      "Werkzeug 0.12.2\n",
      "wcwidth 0.1.7\n",
      "unicodecsv 0.14.1\n",
      "traitlets 4.3.2\n",
      "tornado 4.5.1\n",
      "toolz 0.8.2\n",
      "Theano 0.9.0\n",
      "testpath 0.3\n",
      "terminado 0.8.1\n",
      "tensorflow 1.2.0\n",
      "tblib 1.3.2\n",
      "tables 3.4.2\n",
      "sympy 1.0\n",
      "statsmodels 0.8.0\n",
      "SQLAlchemy 1.1.9\n",
      "spyder 3.2.6\n",
      "sortedcontainers 1.5.7\n",
      "sortedcollections 0.5.3\n",
      "snowballstemmer 1.2.1\n",
      "smart-open 1.5.6\n",
      "six 1.11.0\n",
      "singledispatch 3.4.0.3\n",
      "simplegeneric 0.8.1\n",
      "setuptools 38.4.0\n",
      "Send2Trash 1.4.2\n",
      "seaborn 0.8.1\n",
      "scipy 1.0.0\n",
      "scikit-learn 0.18.1\n",
      "scikit-image 0.13.0\n",
      "s3transfer 0.1.12\n",
      "rope-py3k 0.9.4.post1\n",
      "requests 2.14.2\n",
      "QtPy 1.2.1\n",
      "qtconsole 4.3.0\n",
      "QtAwesome 0.4.4\n",
      "pyzmq 16.0.2\n",
      "PyYAML 3.12\n",
      "pywinpty 0.5\n",
      "pywin32 220\n",
      "PyWavelets 0.5.2\n",
      "pytz 2017.3\n",
      "python-pptx 0.6.6\n",
      "python-dateutil 2.6.1\n",
      "python-crfsuite 0.9.2\n",
      "pytest 3.0.7\n",
      "pyparsing 2.1.4\n",
      "pyOpenSSL 17.0.0\n",
      "pyodbc 4.0.16\n",
      "PyMySQL3 0.5\n",
      "PyMySQL 0.7.11\n",
      "pymongo 3.6.0\n",
      "pylint 1.6.4\n",
      "Pygments 2.2.0\n",
      "pyflakes 1.5.0\n",
      "pydotplus 2.0.2\n",
      "pydot 1.2.3\n",
      "pycurl 7.43.0.1\n",
      "pycrypto 2.6.1\n",
      "pycparser 2.17\n",
      "pycosat 0.6.3\n",
      "pycodestyle 2.3.1\n",
      "py 1.4.33\n",
      "psutil 5.2.2\n",
      "protobuf 3.5.1\n",
      "prompt-toolkit 1.0.14\n",
      "ply 3.10\n",
      "pipdeptree 0.10.1\n",
      "pip 9.0.1\n",
      "Pillow 5.0.0\n",
      "pickleshare 0.7.4\n",
      "pep8 1.7.0\n",
      "patsy 0.4.1\n",
      "pathlib2 2.2.1\n",
      "path.py 10.3.1\n",
      "partd 0.3.8\n",
      "pandocfilters 1.4.1\n",
      "pandas 0.22.0\n",
      "pandas-access 0.0.1\n",
      "packaging 16.8\n",
      "openpyxl 2.4.7\n",
      "opencv-python 3.2.0+contrib\n",
      "olefile 0.44\n",
      "odo 0.5.0\n",
      "numpydoc 0.6.0\n",
      "numpy 1.14.0\n",
      "numexpr 2.6.2\n",
      "numba 0.33.0\n",
      "notebook 5.4.0\n",
      "nose 1.3.7\n",
      "nltk 3.2.3\n",
      "networkx 1.11\n",
      "nbformat 4.3.0\n",
      "nbconvert 5.1.1\n",
      "navigator-updater 0.1.0\n",
      "mysql-connector-python 2.0.4\n",
      "multipledispatch 0.4.9\n",
      "msgpack-python 0.4.8\n",
      "mpmath 0.19\n",
      "mistune 0.7.4\n",
      "menuinst 1.4.7\n",
      "mdbtools 0.3.12\n",
      "matplotlib 2.0.2\n",
      "MarkupSafe 0.23\n",
      "Markdown 2.2.0\n",
      "lxml 3.7.3\n",
      "locket 0.2.0\n",
      "lmfit 0.9.7\n",
      "llvmlite 0.18.0\n",
      "lazy-object-proxy 1.2.2\n",
      "Keras 2.1.1\n",
      "keras-vis 0.4.1\n",
      "jupyter 1.0.0\n",
      "jupyter-nbextensions-configurator 0.4.0\n",
      "jupyter-latex-envs 1.4.1\n",
      "jupyter-highlight-selected-word 0.1.0\n",
      "jupyter-core 4.4.0\n",
      "jupyter-contrib-nbextensions 0.4.0\n",
      "jupyter-contrib-core 0.3.3\n",
      "jupyter-console 5.1.0\n",
      "jupyter-client 5.2.2\n",
      "jsonschema 2.6.0\n",
      "jsm 0.19\n",
      "jmespath 0.9.3\n",
      "Jinja2 2.9.6\n",
      "jedi 0.10.2\n",
      "jdcal 1.3\n",
      "itsdangerous 0.24\n",
      "isort 4.2.5\n",
      "ipywidgets 6.0.0\n",
      "ipython 5.3.0\n",
      "ipython-genutils 0.2.0\n",
      "ipykernel 4.6.1\n",
      "imagesize 0.7.1\n",
      "idna 2.5\n",
      "hyperopt 0.1\n",
      "hyperas 0.4\n",
      "html5lib 0.9999999\n",
      "HeapDict 1.0.0\n",
      "h5py 2.7.1\n",
      "greenlet 0.4.12\n",
      "graphviz 0.8\n",
      "gevent 1.2.1\n",
      "gensim 3.3.0\n",
      "future 0.16.0\n",
      "Flask 0.12.2\n",
      "Flask-Cors 3.0.2\n",
      "fastcache 1.0.2\n",
      "et-xmlfile 1.0.1\n",
      "entrypoints 0.2.2\n",
      "docutils 0.13.1\n",
      "distributed 1.16.3\n",
      "decorator 4.0.11\n",
      "datashape 0.5.4\n",
      "dask 0.14.3\n",
      "cytoolz 0.8.2\n",
      "Cython 0.25.2\n",
      "cycler 0.10.0\n",
      "cryptography 1.8.1\n",
      "contextlib2 0.5.5\n",
      "conda 4.4.10\n",
      "comtypes 1.1.2\n",
      "colorama 0.3.9\n",
      "clyent 1.2.2\n",
      "cloudpickle 0.2.2\n",
      "click 6.7\n",
      "chardet 3.0.3\n",
      "cffi 1.10.0\n",
      "certifi 2018.1.18\n",
      "bz2file 0.98\n",
      "Bottleneck 1.2.1\n",
      "botocore 1.8.39\n",
      "boto3 1.5.25\n",
      "boto 2.46.1\n",
      "bokeh 0.12.5\n",
      "bleach 1.5.0\n",
      "blaze 0.10.1\n",
      "bitarray 0.8.1\n",
      "beautifulsoup4 4.6.0\n",
      "backports.weakref 1.0rc1\n",
      "backports.shutil-get-terminal-size 1.0.0\n",
      "Babel 2.4.0\n",
      "astropy 1.3.2\n",
      "astroid 1.4.9\n",
      "asn1crypto 0.22.0\n",
      "anaconda-project 0.6.0\n",
      "anaconda-navigator 1.6.2\n",
      "anaconda-client 1.6.3\n",
      "alabaster 0.7.10\n",
      "sphinx 1.5.6\n",
      "hpsklearn 0.0.3\n"
     ]
    }
   ],
   "source": [
    "from pip.utils import get_installed_distributions\n",
    "#skips = ['setuptools', 'pip', 'distribute', 'python', 'wsgiref']\n",
    "skips=[]\n",
    "for dist in get_installed_distributions(local_only=True, skip=skips):\n",
    "    print(dist.project_name, dist.version)"
   ]
  },
  {
   "cell_type": "code",
   "execution_count": null,
   "metadata": {},
   "outputs": [],
   "source": []
  }
 ],
 "metadata": {
  "kernelspec": {
   "display_name": "Python 3",
   "language": "python",
   "name": "python3"
  },
  "language_info": {
   "codemirror_mode": {
    "name": "ipython",
    "version": 3
   },
   "file_extension": ".py",
   "mimetype": "text/x-python",
   "name": "python",
   "nbconvert_exporter": "python",
   "pygments_lexer": "ipython3",
   "version": "3.6.1"
  },
  "toc": {
   "nav_menu": {},
   "number_sections": true,
   "sideBar": true,
   "skip_h1_title": false,
   "title_cell": "Table of Contents",
   "title_sidebar": "Contents",
   "toc_cell": false,
   "toc_position": {},
   "toc_section_display": true,
   "toc_window_display": false
  }
 },
 "nbformat": 4,
 "nbformat_minor": 2
}
